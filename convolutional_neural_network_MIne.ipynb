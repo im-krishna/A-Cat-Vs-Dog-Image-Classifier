{
  "cells": [
    {
      "cell_type": "markdown",
      "metadata": {
        "id": "3DR-eO17geWu"
      },
      "source": [
        "# Convolutional Neural Network"
      ]
    },
    {
      "cell_type": "markdown",
      "metadata": {
        "id": "EMefrVPCg-60"
      },
      "source": [
        "### Importing the libraries"
      ]
    },
    {
      "cell_type": "code",
      "execution_count": 1,
      "metadata": {
        "id": "lZ8xoidTayXz"
      },
      "outputs": [],
      "source": [
        "import tensorflow as tf #deep learnig library developed by google\n",
        "from keras.preprocessing.image import ImageDataGenerator"
      ]
    },
    {
      "cell_type": "markdown",
      "metadata": {
        "id": "oxQxCBWyoGPE"
      },
      "source": [
        "## Part 1 - Data Preprocessing"
      ]
    },
    {
      "cell_type": "markdown",
      "metadata": {
        "id": "MvE-heJNo3GG"
      },
      "source": [
        "### Preprocessing the Training set"
      ]
    },
    {
      "cell_type": "code",
      "execution_count": 3,
      "metadata": {
        "id": "U3e0v6Fj1gG2"
      },
      "outputs": [
        {
          "name": "stdout",
          "output_type": "stream",
          "text": [
            "Found 8000 images belonging to 2 classes.\n"
          ]
        }
      ],
      "source": [
        " #preprocessing and augmenting the data  \n",
        " train_datagen = ImageDataGenerator(\n",
        "        #feature scalling \n",
        "        rescale=1./255,#dividing each pixel by 255 so that each pixel lie between 0 and 1\n",
        "        #image transformation\n",
        "        shear_range=0.2,\n",
        "        zoom_range=0.2,\n",
        "        horizontal_flip=True)\n",
        " \n",
        "\n",
        " training_set = train_datagen.flow_from_directory(\n",
        "        'dataset/training_set', #location of folder\n",
        "        target_size = (64, 64),#final size of image fed into convolution network\n",
        "        batch_size = 32, #32 set of image in each batch\n",
        "        class_mode='binary') #binary outcome "
      ]
    },
    {
      "cell_type": "markdown",
      "metadata": {
        "id": "mrCMmGw9pHys"
      },
      "source": [
        "### Preprocessing the Test set"
      ]
    },
    {
      "cell_type": "code",
      "execution_count": 4,
      "metadata": {
        "id": "Igq1F_h61bQb"
      },
      "outputs": [
        {
          "name": "stdout",
          "output_type": "stream",
          "text": [
            "Found 2000 images belonging to 2 classes.\n"
          ]
        }
      ],
      "source": [
        "test_datagen = ImageDataGenerator(rescale=1./255)\n",
        "#applying feature scaling to test set only \n",
        "\n",
        "test_set = test_datagen.flow_from_directory(\n",
        "        'dataset/test_set',\n",
        "        target_size=(64, 64),\n",
        "        batch_size=32,\n",
        "        class_mode='binary')"
      ]
    },
    {
      "cell_type": "markdown",
      "metadata": {
        "id": "af8O4l90gk7B"
      },
      "source": [
        "## Part 2 - Building the CNN"
      ]
    },
    {
      "cell_type": "markdown",
      "metadata": {
        "id": "ces1gXY2lmoX"
      },
      "source": [
        "### Initialising the CNN"
      ]
    },
    {
      "cell_type": "code",
      "execution_count": 10,
      "metadata": {
        "id": "20J4WrRj1q7q"
      },
      "outputs": [],
      "source": [
        "cnn = tf.keras.models.Sequential()"
      ]
    },
    {
      "cell_type": "markdown",
      "metadata": {
        "id": "u5YJj_XMl5LF"
      },
      "source": [
        "### Step 1 - Convolution"
      ]
    },
    {
      "cell_type": "code",
      "execution_count": 11,
      "metadata": {
        "id": "X_XIDUC-4e5u"
      },
      "outputs": [],
      "source": [
        "cnn.add(tf.keras.layers.Conv2D(filters=32,#32 filters are applied\n",
        "                               kernel_size=3,#each have a kernel size of 3\n",
        "                               activation='relu', #activaitoj function used is rectified linear unit\n",
        "                               input_shape=[64,64,3]))#with image size as 64x64 and 3 beacuse we are using rgb image"
      ]
    },
    {
      "cell_type": "markdown",
      "metadata": {
        "id": "tf87FpvxmNOJ"
      },
      "source": [
        "### Step 2 - Pooling"
      ]
    },
    {
      "cell_type": "code",
      "execution_count": 12,
      "metadata": {
        "id": "jLU0l0Zu6Kw_"
      },
      "outputs": [],
      "source": [
        "cnn.add(tf.keras.layers.MaxPool2D(pool_size=(2,2),#size of the kernel of pool \n",
        "                                  strides=2))#movement of kernel to the right by 2 units"
      ]
    },
    {
      "cell_type": "markdown",
      "metadata": {
        "id": "xaTOgD8rm4mU"
      },
      "source": [
        "### Adding a second convolutional layer"
      ]
    },
    {
      "cell_type": "code",
      "execution_count": 13,
      "metadata": {
        "id": "7yc6H7oi6hNm"
      },
      "outputs": [],
      "source": [
        "cnn.add(tf.keras.layers.Conv2D(filters=32,\n",
        "                               kernel_size=3,\n",
        "                               activation='relu', \n",
        "                              ))\n",
        "cnn.add(tf.keras.layers.MaxPool2D(pool_size=(2,2),\n",
        "                                  strides=2))"
      ]
    },
    {
      "cell_type": "markdown",
      "metadata": {
        "id": "tmiEuvTunKfk"
      },
      "source": [
        "### Step 3 - Flattening"
      ]
    },
    {
      "cell_type": "code",
      "execution_count": 14,
      "metadata": {
        "id": "StSMKQWb6-P5"
      },
      "outputs": [],
      "source": [
        "cnn.add(tf.keras.layers.Flatten())"
      ]
    },
    {
      "cell_type": "markdown",
      "metadata": {
        "id": "dAoSECOm203v"
      },
      "source": [
        "### Step 4 - Full Connection"
      ]
    },
    {
      "cell_type": "code",
      "execution_count": 15,
      "metadata": {
        "id": "gpaQ7f7C7LAe"
      },
      "outputs": [],
      "source": [
        "cnn.add(tf.keras.layers.Dense(units =128, #no of hidden neurons\n",
        "                              activation='relu'))"
      ]
    },
    {
      "cell_type": "markdown",
      "metadata": {
        "id": "yTldFvbX28Na"
      },
      "source": [
        "### Step 5 - Output Layer"
      ]
    },
    {
      "cell_type": "code",
      "execution_count": 16,
      "metadata": {
        "id": "d-LEhnmjmCko"
      },
      "outputs": [],
      "source": [
        "#final layer\n",
        "cnn.add(tf.keras.layers.Dense(units =1, #no of final neurons is 1 binary classification\n",
        "                              activation='sigmoid'))"
      ]
    },
    {
      "cell_type": "markdown",
      "metadata": {
        "id": "D6XkI90snSDl"
      },
      "source": [
        "## Part 3 - Training the CNN"
      ]
    },
    {
      "cell_type": "markdown",
      "metadata": {
        "id": "vfrFQACEnc6i"
      },
      "source": [
        "### Compiling the CNN"
      ]
    },
    {
      "cell_type": "code",
      "execution_count": 17,
      "metadata": {
        "id": "9MyTM_L6mtIZ"
      },
      "outputs": [],
      "source": [
        "cnn.compile(optimizer='adam',\n",
        "            loss='binary_crossentropy',\n",
        "            metrics=['accuracy'])"
      ]
    },
    {
      "cell_type": "markdown",
      "metadata": {
        "id": "ehS-v3MIpX2h"
      },
      "source": [
        "### Training the CNN on the Training set and evaluating it on the Test set"
      ]
    },
    {
      "cell_type": "code",
      "execution_count": 18,
      "metadata": {
        "colab": {
          "base_uri": "https://localhost:8080/",
          "height": 200
        },
        "id": "vzmAPdNqpOBW",
        "outputId": "8272916c-e618-434a-dea4-9551f6a89b40"
      },
      "outputs": [
        {
          "name": "stdout",
          "output_type": "stream",
          "text": [
            "Epoch 1/25\n",
            "250/250 [==============================] - 35s 136ms/step - loss: 0.6624 - accuracy: 0.5925 - val_loss: 0.6320 - val_accuracy: 0.6350\n",
            "Epoch 2/25\n",
            "250/250 [==============================] - 37s 146ms/step - loss: 0.5905 - accuracy: 0.6876 - val_loss: 0.5598 - val_accuracy: 0.7145\n",
            "Epoch 3/25\n",
            "250/250 [==============================] - 31s 122ms/step - loss: 0.5602 - accuracy: 0.7078 - val_loss: 0.5273 - val_accuracy: 0.7490\n",
            "Epoch 4/25\n",
            "250/250 [==============================] - 31s 125ms/step - loss: 0.5298 - accuracy: 0.7336 - val_loss: 0.4992 - val_accuracy: 0.7675\n",
            "Epoch 5/25\n",
            "250/250 [==============================] - 29s 115ms/step - loss: 0.5016 - accuracy: 0.7533 - val_loss: 0.4930 - val_accuracy: 0.7715\n",
            "Epoch 6/25\n",
            "250/250 [==============================] - 34s 134ms/step - loss: 0.4864 - accuracy: 0.7628 - val_loss: 0.5105 - val_accuracy: 0.7610\n",
            "Epoch 7/25\n",
            "250/250 [==============================] - 29s 117ms/step - loss: 0.4725 - accuracy: 0.7710 - val_loss: 0.4835 - val_accuracy: 0.7795\n",
            "Epoch 8/25\n",
            "250/250 [==============================] - 29s 117ms/step - loss: 0.4586 - accuracy: 0.7807 - val_loss: 0.5018 - val_accuracy: 0.7680\n",
            "Epoch 9/25\n",
            "250/250 [==============================] - 35s 140ms/step - loss: 0.4440 - accuracy: 0.7874 - val_loss: 0.4632 - val_accuracy: 0.7855\n",
            "Epoch 10/25\n",
            "250/250 [==============================] - 37s 147ms/step - loss: 0.4260 - accuracy: 0.8029 - val_loss: 0.4647 - val_accuracy: 0.7935\n",
            "Epoch 11/25\n",
            "250/250 [==============================] - 35s 140ms/step - loss: 0.4203 - accuracy: 0.8052 - val_loss: 0.4756 - val_accuracy: 0.7895\n",
            "Epoch 12/25\n",
            "250/250 [==============================] - 35s 139ms/step - loss: 0.4020 - accuracy: 0.8185 - val_loss: 0.4552 - val_accuracy: 0.8005\n",
            "Epoch 13/25\n",
            "250/250 [==============================] - 34s 137ms/step - loss: 0.3998 - accuracy: 0.8160 - val_loss: 0.4598 - val_accuracy: 0.7975\n",
            "Epoch 14/25\n",
            "250/250 [==============================] - 35s 138ms/step - loss: 0.3871 - accuracy: 0.8226 - val_loss: 0.4624 - val_accuracy: 0.8020\n",
            "Epoch 15/25\n",
            "250/250 [==============================] - 35s 139ms/step - loss: 0.3788 - accuracy: 0.8278 - val_loss: 0.4809 - val_accuracy: 0.7895\n",
            "Epoch 16/25\n",
            "250/250 [==============================] - 35s 140ms/step - loss: 0.3624 - accuracy: 0.8340 - val_loss: 0.4949 - val_accuracy: 0.7830\n",
            "Epoch 17/25\n",
            "250/250 [==============================] - 35s 139ms/step - loss: 0.3454 - accuracy: 0.8484 - val_loss: 0.4638 - val_accuracy: 0.7995\n",
            "Epoch 18/25\n",
            "250/250 [==============================] - 36s 143ms/step - loss: 0.3490 - accuracy: 0.8441 - val_loss: 0.4655 - val_accuracy: 0.8065\n",
            "Epoch 19/25\n",
            "250/250 [==============================] - 35s 139ms/step - loss: 0.3278 - accuracy: 0.8599 - val_loss: 0.4622 - val_accuracy: 0.8040\n",
            "Epoch 20/25\n",
            "250/250 [==============================] - 35s 141ms/step - loss: 0.3243 - accuracy: 0.8583 - val_loss: 0.4702 - val_accuracy: 0.8050\n",
            "Epoch 21/25\n",
            "250/250 [==============================] - 35s 142ms/step - loss: 0.3086 - accuracy: 0.8630 - val_loss: 0.6170 - val_accuracy: 0.7585\n",
            "Epoch 22/25\n",
            "250/250 [==============================] - 42s 168ms/step - loss: 0.3060 - accuracy: 0.8676 - val_loss: 0.5410 - val_accuracy: 0.7820\n",
            "Epoch 23/25\n",
            "250/250 [==============================] - 35s 140ms/step - loss: 0.2936 - accuracy: 0.8749 - val_loss: 0.4612 - val_accuracy: 0.8080\n",
            "Epoch 24/25\n",
            "250/250 [==============================] - 36s 145ms/step - loss: 0.2822 - accuracy: 0.8775 - val_loss: 0.5238 - val_accuracy: 0.7915\n",
            "Epoch 25/25\n",
            "250/250 [==============================] - 39s 157ms/step - loss: 0.2827 - accuracy: 0.8745 - val_loss: 0.5212 - val_accuracy: 0.8015\n"
          ]
        },
        {
          "data": {
            "text/plain": [
              "<keras.callbacks.History at 0x1fcfc0a78e0>"
            ]
          },
          "execution_count": 18,
          "metadata": {},
          "output_type": "execute_result"
        }
      ],
      "source": [
        "cnn.fit(x = training_set,\n",
        "        validation_data= test_set,\n",
        "        epochs=25)"
      ]
    },
    {
      "cell_type": "markdown",
      "metadata": {
        "id": "U3PZasO0006Z"
      },
      "source": [
        "## Part 4 - Making a single prediction"
      ]
    },
    {
      "cell_type": "code",
      "execution_count": 23,
      "metadata": {
        "id": "k5ZHMsBYtb57"
      },
      "outputs": [],
      "source": [
        "import numpy as np\n",
        "from keras.preprocessing import image"
      ]
    },
    {
      "cell_type": "code",
      "execution_count": 26,
      "metadata": {
        "id": "hN2oiKE5tgFn"
      },
      "outputs": [
        {
          "name": "stdout",
          "output_type": "stream",
          "text": [
            "{'cats': 0, 'dogs': 1}\n",
            "cat\n"
          ]
        }
      ],
      "source": [
        "test_image = image.load_img('dataset\\single_prediction\\cat_or_dog_2.jpg',\n",
        "                            target_size = (64,64) )# target_size image)\n",
        "test_image = image.img_to_array(test_image) \n",
        "test_image = np.expand_dims(test_image, axis = 0)\n",
        "#before [1,2]\n",
        "#after [[1,2],another_image]\n",
        "#we have to add an extra dimension to the image because we have created batches of image \n",
        "#and each batch has 32 images [image,image,.....32]\n",
        "result = cnn.predict(test_image)\n",
        "#print(training_set.class_indices)\n",
        "if result[0][0]==1:\n",
        "  prediction = 'dog'\n",
        "else:\n",
        "  prediction = 'cat' \n",
        "print(prediction)"
      ]
    },
    {
      "cell_type": "code",
      "execution_count": null,
      "metadata": {},
      "outputs": [],
      "source": []
    }
  ],
  "metadata": {
    "accelerator": "GPU",
    "colab": {
      "collapsed_sections": [],
      "name": "convolutional_neural_network_MIne.ipynb",
      "provenance": []
    },
    "kernelspec": {
      "display_name": "Python 3",
      "name": "python3"
    },
    "language_info": {
      "codemirror_mode": {
        "name": "ipython",
        "version": 3
      },
      "file_extension": ".py",
      "mimetype": "text/x-python",
      "name": "python",
      "nbconvert_exporter": "python",
      "pygments_lexer": "ipython3",
      "version": "3.10.1"
    }
  },
  "nbformat": 4,
  "nbformat_minor": 0
}
